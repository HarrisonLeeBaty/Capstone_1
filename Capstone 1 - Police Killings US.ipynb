{
 "cells": [
  {
   "cell_type": "markdown",
   "metadata": {},
   "source": [
    "# Capstone 1:\n",
    "## Police Killings in the US\n",
    "A notebook by Harrison Baty\n",
    "\n",
    "**Required Packages**: Python (3.7), Pandas, Numpy, Seaborn, Matplotlib (pyplot), Scipy (stats)\n",
    "\n",
    "\n",
    "# Overview\n",
    "The topic being covered in this notebook is police shootings in the USA. During recent years following the 2014 killing of Michael Brown in Ferguson, Missouri, a nationwide focus on police accountability has been apparent. Starting in 2015 The Washington Post has been compiling a database of every fatal shooting in the US by a police officer in the line of duty. The analysis below examines the data and answers relevant questions that can be used to better inform multiple stakeholders.\n",
    "\n",
    "This data is interesting because it concerns the safety of our citizens. Better understanding what trends are emerging in episodes of police shootings and why these shootings are happening is an important first step toward eliminating them. This notebook will hopefully serve as a stepping off point for further analysis of police shooting activity.\n",
    "\n",
    "\n",
    "# Hypothesis\n",
    "The null hypothesis we will be challenging in this notebook is, there is no significant difference in the age of minority and white victims of police shootings on average. The alternative hypothesis is, there is a significant difference in the age of minority and white victims of police shootings on average.\n",
    "\n",
    "This questions is important because currently there is discussion around the idea of unequal treatment of individuals of different races by police. Understanding if there is a meaningful difference in the average age of white and minority victims of police killings will be a useful first step to looking into the motives or explanations of this mistreatment of justice.\n",
    "\n",
    "\n",
    "# Data\n",
    "Due to the nature of the issue we will be discussing it is important to understand how the data we are using was collected. The Washington Post compiled this data from law enforcement websites, local news reports, social media, and by monitoring independent databases. It is important to note that this list is by no means exhaustive, it is difficult to find reliable data regarding this issue because many police killings haven't been comprehensively documented. The data includes more than a dozen details about each killing - including the race, age and gender of the deceased, whether the person was armed, and whether the victim was experiencing a mental health crisis.\n",
    "\n",
    "\n",
    "### Data Processing:\n",
    "The below shows the importation of the data, dropping of null values, and separation into the two datasets that will be compared. The two datasets created from the initial table contain all the fields for police shooting victims of race 'W' (White) and not race 'W' (effectively all minority or non-white).\n"
   ]
  },
  {
   "cell_type": "code",
   "execution_count": 72,
   "metadata": {},
   "outputs": [
    {
     "name": "stdout",
     "output_type": "stream",
     "text": [
      "<class 'pandas.core.frame.DataFrame'>\n",
      "RangeIndex: 2535 entries, 0 to 2534\n",
      "Data columns (total 14 columns):\n",
      " #   Column                   Non-Null Count  Dtype  \n",
      "---  ------                   --------------  -----  \n",
      " 0   id                       2535 non-null   int64  \n",
      " 1   name                     2535 non-null   object \n",
      " 2   date                     2535 non-null   object \n",
      " 3   manner_of_death          2535 non-null   object \n",
      " 4   armed                    2526 non-null   object \n",
      " 5   age                      2458 non-null   float64\n",
      " 6   gender                   2535 non-null   object \n",
      " 7   race                     2340 non-null   object \n",
      " 8   city                     2535 non-null   object \n",
      " 9   state                    2535 non-null   object \n",
      " 10  signs_of_mental_illness  2535 non-null   bool   \n",
      " 11  threat_level             2535 non-null   object \n",
      " 12  flee                     2470 non-null   object \n",
      " 13  body_camera              2535 non-null   bool   \n",
      "dtypes: bool(2), float64(1), int64(1), object(10)\n",
      "memory usage: 242.7+ KB\n"
     ]
    },
    {
     "data": {
      "text/html": [
       "<div>\n",
       "<style scoped>\n",
       "    .dataframe tbody tr th:only-of-type {\n",
       "        vertical-align: middle;\n",
       "    }\n",
       "\n",
       "    .dataframe tbody tr th {\n",
       "        vertical-align: top;\n",
       "    }\n",
       "\n",
       "    .dataframe thead th {\n",
       "        text-align: right;\n",
       "    }\n",
       "</style>\n",
       "<table border=\"1\" class=\"dataframe\">\n",
       "  <thead>\n",
       "    <tr style=\"text-align: right;\">\n",
       "      <th></th>\n",
       "      <th>id</th>\n",
       "      <th>name</th>\n",
       "      <th>date</th>\n",
       "      <th>manner_of_death</th>\n",
       "      <th>armed</th>\n",
       "      <th>age</th>\n",
       "      <th>gender</th>\n",
       "      <th>race</th>\n",
       "      <th>city</th>\n",
       "      <th>state</th>\n",
       "      <th>signs_of_mental_illness</th>\n",
       "      <th>threat_level</th>\n",
       "      <th>flee</th>\n",
       "      <th>body_camera</th>\n",
       "    </tr>\n",
       "  </thead>\n",
       "  <tbody>\n",
       "    <tr>\n",
       "      <th>0</th>\n",
       "      <td>3</td>\n",
       "      <td>Tim Elliot</td>\n",
       "      <td>02/01/15</td>\n",
       "      <td>shot</td>\n",
       "      <td>gun</td>\n",
       "      <td>53.0</td>\n",
       "      <td>M</td>\n",
       "      <td>A</td>\n",
       "      <td>Shelton</td>\n",
       "      <td>WA</td>\n",
       "      <td>True</td>\n",
       "      <td>attack</td>\n",
       "      <td>Not fleeing</td>\n",
       "      <td>False</td>\n",
       "    </tr>\n",
       "    <tr>\n",
       "      <th>1</th>\n",
       "      <td>4</td>\n",
       "      <td>Lewis Lee Lembke</td>\n",
       "      <td>02/01/15</td>\n",
       "      <td>shot</td>\n",
       "      <td>gun</td>\n",
       "      <td>47.0</td>\n",
       "      <td>M</td>\n",
       "      <td>W</td>\n",
       "      <td>Aloha</td>\n",
       "      <td>OR</td>\n",
       "      <td>False</td>\n",
       "      <td>attack</td>\n",
       "      <td>Not fleeing</td>\n",
       "      <td>False</td>\n",
       "    </tr>\n",
       "    <tr>\n",
       "      <th>2</th>\n",
       "      <td>5</td>\n",
       "      <td>John Paul Quintero</td>\n",
       "      <td>03/01/15</td>\n",
       "      <td>shot and Tasered</td>\n",
       "      <td>unarmed</td>\n",
       "      <td>23.0</td>\n",
       "      <td>M</td>\n",
       "      <td>H</td>\n",
       "      <td>Wichita</td>\n",
       "      <td>KS</td>\n",
       "      <td>False</td>\n",
       "      <td>other</td>\n",
       "      <td>Not fleeing</td>\n",
       "      <td>False</td>\n",
       "    </tr>\n",
       "    <tr>\n",
       "      <th>3</th>\n",
       "      <td>8</td>\n",
       "      <td>Matthew Hoffman</td>\n",
       "      <td>04/01/15</td>\n",
       "      <td>shot</td>\n",
       "      <td>toy weapon</td>\n",
       "      <td>32.0</td>\n",
       "      <td>M</td>\n",
       "      <td>W</td>\n",
       "      <td>San Francisco</td>\n",
       "      <td>CA</td>\n",
       "      <td>True</td>\n",
       "      <td>attack</td>\n",
       "      <td>Not fleeing</td>\n",
       "      <td>False</td>\n",
       "    </tr>\n",
       "    <tr>\n",
       "      <th>4</th>\n",
       "      <td>9</td>\n",
       "      <td>Michael Rodriguez</td>\n",
       "      <td>04/01/15</td>\n",
       "      <td>shot</td>\n",
       "      <td>nail gun</td>\n",
       "      <td>39.0</td>\n",
       "      <td>M</td>\n",
       "      <td>H</td>\n",
       "      <td>Evans</td>\n",
       "      <td>CO</td>\n",
       "      <td>False</td>\n",
       "      <td>attack</td>\n",
       "      <td>Not fleeing</td>\n",
       "      <td>False</td>\n",
       "    </tr>\n",
       "  </tbody>\n",
       "</table>\n",
       "</div>"
      ],
      "text/plain": [
       "   id                name      date   manner_of_death       armed   age  \\\n",
       "0   3          Tim Elliot  02/01/15              shot         gun  53.0   \n",
       "1   4    Lewis Lee Lembke  02/01/15              shot         gun  47.0   \n",
       "2   5  John Paul Quintero  03/01/15  shot and Tasered     unarmed  23.0   \n",
       "3   8     Matthew Hoffman  04/01/15              shot  toy weapon  32.0   \n",
       "4   9   Michael Rodriguez  04/01/15              shot    nail gun  39.0   \n",
       "\n",
       "  gender race           city state  signs_of_mental_illness threat_level  \\\n",
       "0      M    A        Shelton    WA                     True       attack   \n",
       "1      M    W          Aloha    OR                    False       attack   \n",
       "2      M    H        Wichita    KS                    False        other   \n",
       "3      M    W  San Francisco    CA                     True       attack   \n",
       "4      M    H          Evans    CO                    False       attack   \n",
       "\n",
       "          flee  body_camera  \n",
       "0  Not fleeing        False  \n",
       "1  Not fleeing        False  \n",
       "2  Not fleeing        False  \n",
       "3  Not fleeing        False  \n",
       "4  Not fleeing        False  "
      ]
     },
     "execution_count": 72,
     "metadata": {},
     "output_type": "execute_result"
    }
   ],
   "source": [
    "# Initializing the environment\n",
    "%matplotlib inline\n",
    "import math\n",
    "import pandas as pd\n",
    "import numpy as np\n",
    "import seaborn as sns\n",
    "from matplotlib import pyplot as plt\n",
    "from scipy import stats\n",
    "\n",
    "# creating the 95% confidence interval function\n",
    "def get_95_ci(array_1, array_2):\n",
    "    sample_1_n = array_1.shape[0]\n",
    "    sample_2_n = array_2.shape[0]\n",
    "    sample_1_mean = array_1.mean()\n",
    "    sample_2_mean = array_2.mean()\n",
    "    sample_1_var = array_1.var()\n",
    "    sample_2_var = array_2.var()\n",
    "    mean_difference = sample_2_mean - sample_1_mean\n",
    "    std_err_difference = math.sqrt((sample_1_var/sample_1_n)+(sample_2_var/sample_2_n))\n",
    "    margin_of_error = 1.96 * std_err_difference\n",
    "    ci_lower = mean_difference - margin_of_error\n",
    "    ci_upper = mean_difference + margin_of_error\n",
    "    return(\"The difference in means at the 95% confidence interval (two-tail) is between \"+str(ci_lower)+\" and \"+str(ci_upper)+\".\")\n",
    "\n",
    "# import and read data\n",
    "data = 'PoliceKillingsUS.csv'\n",
    "experiment_data = pd.read_csv(data, encoding='cp1252')\n",
    "\n",
    "experiment_data.info()\n",
    "\n",
    "experiment_data.head()"
   ]
  },
  {
   "cell_type": "code",
   "execution_count": 73,
   "metadata": {},
   "outputs": [
    {
     "name": "stdout",
     "output_type": "stream",
     "text": [
      "<class 'pandas.core.frame.DataFrame'>\n",
      "Int64Index: 2254 entries, 0 to 2534\n",
      "Data columns (total 14 columns):\n",
      " #   Column                   Non-Null Count  Dtype  \n",
      "---  ------                   --------------  -----  \n",
      " 0   id                       2254 non-null   int64  \n",
      " 1   name                     2254 non-null   object \n",
      " 2   date                     2254 non-null   object \n",
      " 3   manner_of_death          2254 non-null   object \n",
      " 4   armed                    2254 non-null   object \n",
      " 5   age                      2254 non-null   float64\n",
      " 6   gender                   2254 non-null   object \n",
      " 7   race                     2254 non-null   object \n",
      " 8   city                     2254 non-null   object \n",
      " 9   state                    2254 non-null   object \n",
      " 10  signs_of_mental_illness  2254 non-null   bool   \n",
      " 11  threat_level             2254 non-null   object \n",
      " 12  flee                     2254 non-null   object \n",
      " 13  body_camera              2254 non-null   bool   \n",
      "dtypes: bool(2), float64(1), int64(1), object(10)\n",
      "memory usage: 233.3+ KB\n"
     ]
    }
   ],
   "source": [
    "# dropping rows with any null values for simplicity\n",
    "experiment_data_nonull = experiment_data.dropna()\n",
    "experiment_data_nonull.info()\n",
    "\n",
    "# creating two datasets for minority and white shooting victims\n",
    "minority_data = experiment_data_nonull[experiment_data_nonull['race'] != 'W']\n",
    "white_data = experiment_data_nonull[experiment_data_nonull['race'] == 'W']"
   ]
  },
  {
   "cell_type": "markdown",
   "metadata": {},
   "source": [
    "# Methods\n",
    "The methods used in this notebook are listed below with brief explanations. Understanding the tools used in any piece of analysis is key to gaining a more accurate understanding of any conclusions.\n",
    "\n",
    "**Histograms** - A graphical display of data using bars of different heights where the height of each bar represents the number of data points that fall in that range. A histogram is used to show the shape and spread (distribution) of continuous sample data.\n",
    "\n",
    "Histograms are commonly used to make a first visual inspection of the distribution of a dataset. In this notebook a histogram was generated for the two datasets being compared to gather some initial information about its distribution. The distributions seen below are fairly normal and after generating descriptive statistics to confirm this the data was ready to be analyzed with applicable statistical tests.\n",
    "\n",
    "**Independent-samples T-Test** - A statistical test used to compare the means of two independent groups in order to determine whether there is statistical evidence that the associated population means are significantly different.\n",
    "\n",
    "The independent-samples t-test is used in this notebooks analysis of two samples in order to provide insight regarding the significant difference in the associated population means. After running the test and receiving a t-statistic with a larger absolute value than the critical value of 1.96 and a p-value of <.001 we rejected the null hypothesis."
   ]
  },
  {
   "cell_type": "code",
   "execution_count": 82,
   "metadata": {},
   "outputs": [
    {
     "data": {
      "image/png": "[encoded data removed]",
      "text/plain": [
       "<Figure size 432x288 with 1 Axes>"
      ]
     },
     "metadata": {
      "needs_background": "light"
     },
     "output_type": "display_data"
    },
    {
     "name": "stdout",
     "output_type": "stream",
     "text": [
      "DescribeResult(nobs=1086, minmax=(13.0, 80.0), mean=32.24585635359116, variance=120.25931461160476, skewness=0.9907844594120286, kurtosis=1.051234209087867)\n",
      "DescribeResult(nobs=1168, minmax=(6.0, 91.0), mean=39.98116438356164, variance=177.5591993285676, skewness=0.4422700902586822, kurtosis=-0.30075812036171623)\n"
     ]
    }
   ],
   "source": [
    "# checking the two new datasets for normal distribution by age\n",
    "plt.hist(minority_data['age'], alpha = .5)\n",
    "plt.hist(white_data['age'], alpha = .5)\n",
    "plt.title('Count of Police Killings')\n",
    "plt.xlabel('Age')\n",
    "plt.ylabel('Count')\n",
    "plt.legend(['Minority','White'], loc=\"upper right\")\n",
    "plt.show()\n",
    "\n",
    "# upon visual examination and confirmation by the skewness and kurtosis of both datasets, the distributions can be considered normal\n",
    "print(stats.describe(minority_data['age']))\n",
    "print(stats.describe(white_data['age']))"
   ]
  },
  {
   "cell_type": "code",
   "execution_count": 60,
   "metadata": {},
   "outputs": [
    {
     "name": "stdout",
     "output_type": "stream",
     "text": [
      "Ttest_indResult(statistic=-14.98511885675651, pvalue=1.8381454271033095e-48)\n"
     ]
    },
    {
     "data": {
      "text/plain": [
       "'The difference in means at the 95% confidence interval (two-tail) is between 6.730617536842639 and 8.739998523098325.'"
      ]
     },
     "execution_count": 60,
     "metadata": {},
     "output_type": "execute_result"
    }
   ],
   "source": [
    "# testing for statistically significant differences in the means\n",
    "print(stats.ttest_ind(minority_data['age'], white_data['age']))\n",
    "\n",
    "# finding the 95% confidence interval of mean difference\n",
    "get_95_ci(minority_data['age'], white_data['age'])"
   ]
  },
  {
   "cell_type": "code",
   "execution_count": 84,
   "metadata": {},
   "outputs": [
    {
     "data": {
      "text/plain": [
       "[[Text(0, 0, 'minority age'), Text(0, 0, 'white age')],\n",
       " Text(0.5, 1.0, 'Difference in Average Age of Shooting Victim')]"
      ]
     },
     "execution_count": 84,
     "metadata": {},
     "output_type": "execute_result"
    },
    {
     "data": {
      "image/png": "[encoded data removed]",
      "text/plain": [
       "<Figure size 432x288 with 1 Axes>"
      ]
     },
     "metadata": {
      "needs_background": "light"
     },
     "output_type": "display_data"
    }
   ],
   "source": [
    "# a pointplot used to visualize the difference in means between the two victim groups.\n",
    "ci_plot = sns.pointplot(data=[minority_data['age'],\n",
    "                        white_data['age']], join=True)\n",
    "                        \n",
    "ci_plot.set(xticklabels = ['minority age', 'white age'], title = 'Difference in Average Age of Shooting Victim')"
   ]
  },
  {
   "cell_type": "markdown",
   "metadata": {},
   "source": [
    "# Results\n",
    "Upon completion of the above analysis, the null hypothesis was rejected and we can state that there is a significant difference in the age of minority and white victims of police shootings on average.\n",
    "\n",
    "Specifically, the difference in means at the 95% confidence interval is between 6.73 and 8.74 years. These findings are interesting because it shows the need for further analysis to better understand where this difference is coming from and how we can explain it.\n",
    "\n",
    "\n",
    "# Discussion\n",
    "After receiving the results of the test it was clear that more analysis needs to be done on this topic. Yes, the average age of white and minority victims of police killings are different but this conclusion can only tell us about a small piece of what is going on.\n",
    "\n",
    "Other information needed to improve the importance of this conclusion would be, what is the average life expectancy of these groups? what are the rates of mental illness in these groups? what ages do mental illness manifest in these groups? and what are the rates of violent crimes in these groups? Answers to these questions would provide another meaningful step towards understanding the true nature of the problem and how to solve it.\n",
    "\n",
    "A great first step towards this goal would be to create a central body in charge of collecting and analyzing all policing data but especially  data around the killing of civilians."
   ]
  },
  {
   "cell_type": "code",
   "execution_count": null,
   "metadata": {},
   "outputs": [],
   "source": []
  }
 ],
 "metadata": {
  "kernelspec": {
   "display_name": "Python 3",
   "language": "python",
   "name": "python3"
  },
  "language_info": {
   "codemirror_mode": {
    "name": "ipython",
    "version": 3
   },
   "file_extension": ".py",
   "mimetype": "text/x-python",
   "name": "python",
   "nbconvert_exporter": "python",
   "pygments_lexer": "ipython3",
   "version": "3.7.6"
  }
 },
 "nbformat": 4,
 "nbformat_minor": 4
}
